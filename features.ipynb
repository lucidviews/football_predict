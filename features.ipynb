{
 "cells": [
  {
   "cell_type": "code",
   "execution_count": 1,
   "metadata": {},
   "outputs": [],
   "source": [
    "import requests\n",
    "import pandas as pd\n",
    "from pprint import pprint\n",
    "import json\n",
    "import datetime"
   ]
  },
  {
   "cell_type": "code",
   "execution_count": 23,
   "metadata": {},
   "outputs": [],
   "source": [
    "team1 = 'Manchester United'\n",
    "team2 = 'Liverpool'"
   ]
  },
  {
   "cell_type": "code",
   "execution_count": 129,
   "metadata": {},
   "outputs": [],
   "source": [
    "header_params = {\n",
    "            'x-rapidapi-key': \"eff8f82f7dmsh5acc88f9a56c302p1b47acjsnfe16ac64e984\",\n",
    "            'x-rapidapi-host': \"api-football-v1.p.rapidapi.com\"\n",
    "            }"
   ]
  },
  {
   "cell_type": "code",
   "execution_count": 130,
   "metadata": {},
   "outputs": [],
   "source": [
    "def get_team_id(team):    \n",
    "    url = \"https://api-football-v1.p.rapidapi.com/v3/teams\"\n",
    "\n",
    "    querystring = {\"name\":team}\n",
    "\n",
    "    response = requests.request(\"GET\", url, headers=header_params, params=querystring)\n",
    "\n",
    "    data = json.loads(response.text)\n",
    "    \n",
    "    return data['response'][0]['team']['id']"
   ]
  },
  {
   "cell_type": "code",
   "execution_count": 131,
   "metadata": {},
   "outputs": [],
   "source": [
    "team_id_1 = get_team_id(team1)\n",
    "team_id_2 = get_team_id(team2)"
   ]
  },
  {
   "cell_type": "code",
   "execution_count": 25,
   "metadata": {},
   "outputs": [
    {
     "output_type": "stream",
     "name": "stdout",
     "text": [
      "{\"get\":\"standings\",\"parameters\":{\"season\":\"2020\",\"team\":\"33\"},\"errors\":[],\"results\":2,\"paging\":{\"current\":1,\"total\":1},\"response\":[{\"league\":{\"id\":39,\"name\":\"Premier League\",\"country\":\"England\",\"logo\":\"https:\\/\\/media.api-sports.io\\/football\\/leagues\\/39.png\",\"flag\":\"https:\\/\\/media.api-sports.io\\/flags\\/gb.svg\",\"season\":2020,\"standings\":[[{\"rank\":2,\"team\":{\"id\":33,\"name\":\"Manchester United\",\"logo\":\"https:\\/\\/media.api-sports.io\\/football\\/teams\\/33.png\"},\"points\":74,\"goalsDiff\":29,\"group\":\"Premier League\",\"form\":\"WDLLW\",\"status\":\"same\",\"description\":\"Promotion - Champions League (Group Stage)\",\"all\":{\"played\":38,\"win\":21,\"draw\":11,\"lose\":6,\"goals\":{\"for\":73,\"against\":44}},\"home\":{\"played\":19,\"win\":9,\"draw\":4,\"lose\":6,\"goals\":{\"for\":38,\"against\":28}},\"away\":{\"played\":19,\"win\":12,\"draw\":7,\"lose\":0,\"goals\":{\"for\":35,\"against\":16}},\"update\":\"2021-05-23T00:00:00+00:00\"}]]}},{\"league\":{\"id\":2,\"name\":\"UEFA Champions League\",\"country\":\"World\",\"logo\":\"https:\\/\\/media.api-sports.io\\/football\\/leagues\\/2.png\",\"flag\":null,\"season\":2020,\"standings\":[[{\"rank\":3,\"team\":{\"id\":33,\"name\":\"Manchester United\",\"logo\":\"https:\\/\\/media.api-sports.io\\/football\\/teams\\/33.png\"},\"points\":9,\"goalsDiff\":5,\"group\":\"UEFA Champions League: Group H\",\"form\":\"LLWLW\",\"status\":\"same\",\"description\":\"Promotion - Europa League (Round of 32)\",\"all\":{\"played\":6,\"win\":3,\"draw\":0,\"lose\":3,\"goals\":{\"for\":15,\"against\":10}},\"home\":{\"played\":3,\"win\":2,\"draw\":0,\"lose\":1,\"goals\":{\"for\":10,\"against\":4}},\"away\":{\"played\":3,\"win\":1,\"draw\":0,\"lose\":2,\"goals\":{\"for\":5,\"against\":6}},\"update\":\"2021-04-13T00:00:00+00:00\"}]]}}]}\n"
     ]
    }
   ],
   "source": [
    "url = \"https://api-football-v1.p.rapidapi.com/v3/standings\"\n",
    "\n",
    "querystring = {\"season\":\"2020\",\"team\":\"33\"}\n",
    "\n",
    "response = requests.request(\"GET\", url, headers=header_params, params=querystring)\n",
    "\n",
    "print(response.text)"
   ]
  },
  {
   "cell_type": "code",
   "execution_count": 32,
   "metadata": {},
   "outputs": [],
   "source": [
    "def get_standings(team_id):\n",
    "    url = \"https://api-football-v1.p.rapidapi.com/v3/standings\"\n",
    "    \n",
    "    year = datetime.datetime.now().year\n",
    "\n",
    "    querystring = {\"season\":str(year-1),\"team\":str(team_id)}\n",
    "\n",
    "    response = requests.request(\"GET\", url, headers=header_params, params=querystring)\n",
    "    \n",
    "    data = json.loads(response.text)\n",
    "    \n",
    "    return data['response'][0]['league']['standings'][0][0]['rank']"
   ]
  },
  {
   "cell_type": "code",
   "execution_count": 27,
   "metadata": {},
   "outputs": [
    {
     "output_type": "execute_result",
     "data": {
      "text/plain": [
       "2"
      ]
     },
     "metadata": {},
     "execution_count": 27
    }
   ],
   "source": [
    "get_standings(team_id_1)"
   ]
  },
  {
   "cell_type": "code",
   "execution_count": 28,
   "metadata": {},
   "outputs": [],
   "source": [
    "def get_h2h(team_id_1, team_id_2):    \n",
    "    url = \"https://api-football-v1.p.rapidapi.com/v3/fixtures/headtohead\"\n",
    "    \n",
    "    team_id_1 = get_team_id(team1)\n",
    "    team_id_2 = get_team_id(team2)\n",
    "    \n",
    "    h2h_string = str(team_id_1)+'-'+str(team_id_2)\n",
    "\n",
    "    querystring = {\"h2h\":h2h_string}\n",
    "\n",
    "    headers = header_params\n",
    "\n",
    "    response = requests.request(\"GET\", url, headers=header_params, params=querystring)\n",
    "    data = json.loads(response.text)\n",
    "\n",
    "    df = pd.DataFrame([d['teams']['home']['name'], \n",
    "                       d['teams']['away']['name'],\n",
    "                       d['fixture']['date'],\n",
    "                       d['goals']['home'],\n",
    "                       d['goals']['away']] for d in data['response'])\n",
    "    df = df.rename(columns={0:'home_team', 1:'away_team', 2:'date', 3:'home_goals', 4:'away_goals'})\n",
    "    \n",
    "    return df"
   ]
  },
  {
   "cell_type": "code",
   "execution_count": 29,
   "metadata": {},
   "outputs": [
    {
     "output_type": "execute_result",
     "data": {
      "text/plain": [
       "            home_team          away_team                       date  \\\n",
       "0   Manchester United          Liverpool  2019-02-24T14:05:00+00:00   \n",
       "1   Manchester United          Liverpool  2018-03-10T12:30:00+00:00   \n",
       "2   Manchester United          Liverpool  2017-01-15T16:00:00+00:00   \n",
       "3   Manchester United          Liverpool  2019-10-20T15:30:00+00:00   \n",
       "4   Manchester United          Liverpool  2015-09-12T16:30:00+00:00   \n",
       "5   Manchester United          Liverpool  2014-12-14T13:30:00+00:00   \n",
       "6   Manchester United          Liverpool  2014-03-16T13:30:00+00:00   \n",
       "7   Manchester United          Liverpool  2013-01-13T13:30:00+00:00   \n",
       "8   Manchester United          Liverpool  2012-02-11T12:45:00+00:00   \n",
       "9   Manchester United          Liverpool  2010-09-19T12:30:00+00:00   \n",
       "10  Manchester United          Liverpool  2018-07-28T21:05:00+00:00   \n",
       "11  Manchester United          Liverpool  2013-09-25T18:45:00+00:00   \n",
       "12  Manchester United          Liverpool  2016-03-17T20:05:00+00:00   \n",
       "13  Manchester United          Liverpool  2021-05-13T19:15:00+00:00   \n",
       "14  Manchester United          Liverpool  2021-01-24T17:00:00+00:00   \n",
       "15          Liverpool  Manchester United  2018-12-16T16:00:00+00:00   \n",
       "16          Liverpool  Manchester United  2017-10-14T11:30:00+00:00   \n",
       "17          Liverpool  Manchester United  2016-10-17T19:00:00+00:00   \n",
       "18          Liverpool  Manchester United  2020-01-19T16:30:00+00:00   \n",
       "19          Liverpool  Manchester United  2016-01-17T14:05:00+00:00   \n",
       "20          Liverpool  Manchester United  2015-03-22T13:30:00+00:00   \n",
       "21          Liverpool  Manchester United  2013-09-01T12:30:00+00:00   \n",
       "22          Liverpool  Manchester United  2012-09-23T12:30:00+00:00   \n",
       "23          Liverpool  Manchester United  2011-10-15T11:45:00+00:00   \n",
       "24          Liverpool  Manchester United  2011-03-06T13:30:00+00:00   \n",
       "25          Liverpool  Manchester United  2012-01-28T12:45:00+00:00   \n",
       "26          Liverpool  Manchester United  2016-03-10T20:05:00+00:00   \n",
       "27          Liverpool  Manchester United  2021-01-17T16:30:00+00:00   \n",
       "\n",
       "    home_goals  away_goals  \n",
       "0            0           0  \n",
       "1            2           1  \n",
       "2            1           1  \n",
       "3            1           1  \n",
       "4            3           1  \n",
       "5            3           0  \n",
       "6            0           3  \n",
       "7            2           1  \n",
       "8            2           1  \n",
       "9            3           2  \n",
       "10           1           4  \n",
       "11           1           0  \n",
       "12           1           1  \n",
       "13           2           4  \n",
       "14           3           2  \n",
       "15           3           1  \n",
       "16           0           0  \n",
       "17           0           0  \n",
       "18           2           0  \n",
       "19           0           1  \n",
       "20           1           2  \n",
       "21           1           0  \n",
       "22           1           2  \n",
       "23           1           1  \n",
       "24           3           1  \n",
       "25           2           1  \n",
       "26           2           0  \n",
       "27           0           0  "
      ],
      "text/html": "<div>\n<style scoped>\n    .dataframe tbody tr th:only-of-type {\n        vertical-align: middle;\n    }\n\n    .dataframe tbody tr th {\n        vertical-align: top;\n    }\n\n    .dataframe thead th {\n        text-align: right;\n    }\n</style>\n<table border=\"1\" class=\"dataframe\">\n  <thead>\n    <tr style=\"text-align: right;\">\n      <th></th>\n      <th>home_team</th>\n      <th>away_team</th>\n      <th>date</th>\n      <th>home_goals</th>\n      <th>away_goals</th>\n    </tr>\n  </thead>\n  <tbody>\n    <tr>\n      <th>0</th>\n      <td>Manchester United</td>\n      <td>Liverpool</td>\n      <td>2019-02-24T14:05:00+00:00</td>\n      <td>0</td>\n      <td>0</td>\n    </tr>\n    <tr>\n      <th>1</th>\n      <td>Manchester United</td>\n      <td>Liverpool</td>\n      <td>2018-03-10T12:30:00+00:00</td>\n      <td>2</td>\n      <td>1</td>\n    </tr>\n    <tr>\n      <th>2</th>\n      <td>Manchester United</td>\n      <td>Liverpool</td>\n      <td>2017-01-15T16:00:00+00:00</td>\n      <td>1</td>\n      <td>1</td>\n    </tr>\n    <tr>\n      <th>3</th>\n      <td>Manchester United</td>\n      <td>Liverpool</td>\n      <td>2019-10-20T15:30:00+00:00</td>\n      <td>1</td>\n      <td>1</td>\n    </tr>\n    <tr>\n      <th>4</th>\n      <td>Manchester United</td>\n      <td>Liverpool</td>\n      <td>2015-09-12T16:30:00+00:00</td>\n      <td>3</td>\n      <td>1</td>\n    </tr>\n    <tr>\n      <th>5</th>\n      <td>Manchester United</td>\n      <td>Liverpool</td>\n      <td>2014-12-14T13:30:00+00:00</td>\n      <td>3</td>\n      <td>0</td>\n    </tr>\n    <tr>\n      <th>6</th>\n      <td>Manchester United</td>\n      <td>Liverpool</td>\n      <td>2014-03-16T13:30:00+00:00</td>\n      <td>0</td>\n      <td>3</td>\n    </tr>\n    <tr>\n      <th>7</th>\n      <td>Manchester United</td>\n      <td>Liverpool</td>\n      <td>2013-01-13T13:30:00+00:00</td>\n      <td>2</td>\n      <td>1</td>\n    </tr>\n    <tr>\n      <th>8</th>\n      <td>Manchester United</td>\n      <td>Liverpool</td>\n      <td>2012-02-11T12:45:00+00:00</td>\n      <td>2</td>\n      <td>1</td>\n    </tr>\n    <tr>\n      <th>9</th>\n      <td>Manchester United</td>\n      <td>Liverpool</td>\n      <td>2010-09-19T12:30:00+00:00</td>\n      <td>3</td>\n      <td>2</td>\n    </tr>\n    <tr>\n      <th>10</th>\n      <td>Manchester United</td>\n      <td>Liverpool</td>\n      <td>2018-07-28T21:05:00+00:00</td>\n      <td>1</td>\n      <td>4</td>\n    </tr>\n    <tr>\n      <th>11</th>\n      <td>Manchester United</td>\n      <td>Liverpool</td>\n      <td>2013-09-25T18:45:00+00:00</td>\n      <td>1</td>\n      <td>0</td>\n    </tr>\n    <tr>\n      <th>12</th>\n      <td>Manchester United</td>\n      <td>Liverpool</td>\n      <td>2016-03-17T20:05:00+00:00</td>\n      <td>1</td>\n      <td>1</td>\n    </tr>\n    <tr>\n      <th>13</th>\n      <td>Manchester United</td>\n      <td>Liverpool</td>\n      <td>2021-05-13T19:15:00+00:00</td>\n      <td>2</td>\n      <td>4</td>\n    </tr>\n    <tr>\n      <th>14</th>\n      <td>Manchester United</td>\n      <td>Liverpool</td>\n      <td>2021-01-24T17:00:00+00:00</td>\n      <td>3</td>\n      <td>2</td>\n    </tr>\n    <tr>\n      <th>15</th>\n      <td>Liverpool</td>\n      <td>Manchester United</td>\n      <td>2018-12-16T16:00:00+00:00</td>\n      <td>3</td>\n      <td>1</td>\n    </tr>\n    <tr>\n      <th>16</th>\n      <td>Liverpool</td>\n      <td>Manchester United</td>\n      <td>2017-10-14T11:30:00+00:00</td>\n      <td>0</td>\n      <td>0</td>\n    </tr>\n    <tr>\n      <th>17</th>\n      <td>Liverpool</td>\n      <td>Manchester United</td>\n      <td>2016-10-17T19:00:00+00:00</td>\n      <td>0</td>\n      <td>0</td>\n    </tr>\n    <tr>\n      <th>18</th>\n      <td>Liverpool</td>\n      <td>Manchester United</td>\n      <td>2020-01-19T16:30:00+00:00</td>\n      <td>2</td>\n      <td>0</td>\n    </tr>\n    <tr>\n      <th>19</th>\n      <td>Liverpool</td>\n      <td>Manchester United</td>\n      <td>2016-01-17T14:05:00+00:00</td>\n      <td>0</td>\n      <td>1</td>\n    </tr>\n    <tr>\n      <th>20</th>\n      <td>Liverpool</td>\n      <td>Manchester United</td>\n      <td>2015-03-22T13:30:00+00:00</td>\n      <td>1</td>\n      <td>2</td>\n    </tr>\n    <tr>\n      <th>21</th>\n      <td>Liverpool</td>\n      <td>Manchester United</td>\n      <td>2013-09-01T12:30:00+00:00</td>\n      <td>1</td>\n      <td>0</td>\n    </tr>\n    <tr>\n      <th>22</th>\n      <td>Liverpool</td>\n      <td>Manchester United</td>\n      <td>2012-09-23T12:30:00+00:00</td>\n      <td>1</td>\n      <td>2</td>\n    </tr>\n    <tr>\n      <th>23</th>\n      <td>Liverpool</td>\n      <td>Manchester United</td>\n      <td>2011-10-15T11:45:00+00:00</td>\n      <td>1</td>\n      <td>1</td>\n    </tr>\n    <tr>\n      <th>24</th>\n      <td>Liverpool</td>\n      <td>Manchester United</td>\n      <td>2011-03-06T13:30:00+00:00</td>\n      <td>3</td>\n      <td>1</td>\n    </tr>\n    <tr>\n      <th>25</th>\n      <td>Liverpool</td>\n      <td>Manchester United</td>\n      <td>2012-01-28T12:45:00+00:00</td>\n      <td>2</td>\n      <td>1</td>\n    </tr>\n    <tr>\n      <th>26</th>\n      <td>Liverpool</td>\n      <td>Manchester United</td>\n      <td>2016-03-10T20:05:00+00:00</td>\n      <td>2</td>\n      <td>0</td>\n    </tr>\n    <tr>\n      <th>27</th>\n      <td>Liverpool</td>\n      <td>Manchester United</td>\n      <td>2021-01-17T16:30:00+00:00</td>\n      <td>0</td>\n      <td>0</td>\n    </tr>\n  </tbody>\n</table>\n</div>"
     },
     "metadata": {},
     "execution_count": 29
    }
   ],
   "source": [
    "get_h2h(team1, team2)"
   ]
  },
  {
   "cell_type": "code",
   "execution_count": 36,
   "metadata": {},
   "outputs": [],
   "source": [
    "def get_injured_player2(fixture_id):\n",
    "    url = \"https://api-football-v1.p.rapidapi.com/v3/injuries\"\n",
    "\n",
    "    querystring = {'fixture':str(fixture_id)}\n",
    "\n",
    "    headers = header_params\n",
    "\n",
    "    response = requests.request(\"GET\", url, headers=header_params, params=querystring)\n",
    "    data = json.loads(response.text)\n",
    "\n",
    "    df = pd.DataFrame([d['player']['id'], d['player_name']['name']] for d in data['response'])\n",
    "    df = df.rename(columns={0:'player_id', 1:'player'})\n",
    "\n",
    "    return df"
   ]
  },
  {
   "cell_type": "code",
   "execution_count": 67,
   "metadata": {},
   "outputs": [],
   "source": [
    "def get_injured_player(team_id, date=datetime.date.today()):\n",
    "    url = \"https://api-football-v1.p.rapidapi.com/v3/injuries\"\n",
    "\n",
    "    querystring = {'date':str(date), 'team':str(team_id)}\n",
    "\n",
    "    headers = header_params\n",
    "\n",
    "    response = requests.request(\"GET\", url, headers=header_params, params=querystring)\n",
    "    data = json.loads(response.text)\n",
    "\n",
    "    df = pd.DataFrame([d['player']['id'], d['player']['name'], d['player']['type'], d['player']['photo']] for d in data['response'])\n",
    "    df = df.rename(columns={0:'player_id', 1:'player', 2:'status', 3:'photo_link'})\n",
    "\n",
    "    return df"
   ]
  },
  {
   "cell_type": "code",
   "execution_count": 68,
   "metadata": {},
   "outputs": [
    {
     "output_type": "execute_result",
     "data": {
      "text/plain": [
       "   player_id            player        status  \\\n",
       "0      38692   E. Palmer-Brown  Questionable   \n",
       "1       7704  C. Schosswendter  Questionable   \n",
       "\n",
       "                                          photo_link  \n",
       "0  https://media.api-sports.io/football/players/3...  \n",
       "1  https://media.api-sports.io/football/players/7...  "
      ],
      "text/html": "<div>\n<style scoped>\n    .dataframe tbody tr th:only-of-type {\n        vertical-align: middle;\n    }\n\n    .dataframe tbody tr th {\n        vertical-align: top;\n    }\n\n    .dataframe thead th {\n        text-align: right;\n    }\n</style>\n<table border=\"1\" class=\"dataframe\">\n  <thead>\n    <tr style=\"text-align: right;\">\n      <th></th>\n      <th>player_id</th>\n      <th>player</th>\n      <th>status</th>\n      <th>photo_link</th>\n    </tr>\n  </thead>\n  <tbody>\n    <tr>\n      <th>0</th>\n      <td>38692</td>\n      <td>E. Palmer-Brown</td>\n      <td>Questionable</td>\n      <td>https://media.api-sports.io/football/players/3...</td>\n    </tr>\n    <tr>\n      <th>1</th>\n      <td>7704</td>\n      <td>C. Schosswendter</td>\n      <td>Questionable</td>\n      <td>https://media.api-sports.io/football/players/7...</td>\n    </tr>\n  </tbody>\n</table>\n</div>"
     },
     "metadata": {},
     "execution_count": 68
    }
   ],
   "source": [
    "get_injured_player('601', \"2021-04-27\")"
   ]
  },
  {
   "cell_type": "code",
   "execution_count": 84,
   "metadata": {},
   "outputs": [],
   "source": [
    "def _get_last_fixture_ids(team_id, num_last_matches):\n",
    "    url = \"https://api-football-v1.p.rapidapi.com/v3/fixtures\"\n",
    "\n",
    "    querystring = {\"last\":str(num_last_matches), 'team':str(team_id)}\n",
    "\n",
    "    response = requests.request(\"GET\", url, headers=header_params, params=querystring)\n",
    "    data = json.loads(response.text)\n",
    "    \n",
    "    fixture_ids = [f['fixture']['id'] for f in data['response']]\n",
    "\n",
    "    return fixture_ids"
   ]
  },
  {
   "cell_type": "code",
   "execution_count": 85,
   "metadata": {},
   "outputs": [
    {
     "output_type": "execute_result",
     "data": {
      "text/plain": [
       "[702510, 592875]"
      ]
     },
     "metadata": {},
     "execution_count": 85
    }
   ],
   "source": [
    "_get_last_fixture_ids(team_id_1, 2)"
   ]
  },
  {
   "cell_type": "code",
   "execution_count": 105,
   "metadata": {},
   "outputs": [],
   "source": [
    "def get_starting_11(team_id):\n",
    "    url = \"https://api-football-v1.p.rapidapi.com/v3/fixtures/lineups\"\n",
    "\n",
    "    fixture_id = _get_last_fixture_ids(team_id, 1)\n",
    "\n",
    "    querystring = {\"team\":str(team_id), 'fixture':str(fixture_id[0])}\n",
    "\n",
    "    response = requests.request(\"GET\", url, headers=header_params, params=querystring)\n",
    "    data = json.loads(response.text)\n",
    "    \n",
    "    df = pd.DataFrame([d['player']['id'], d['player']['name'], d['player']['pos'], d['player']['number']] for d in data['response'][0]['startXI'])\n",
    "    df = df.rename(columns={0:'player_id', 1:'player', 2:'position', 3:'jersey_number'})\n",
    "\n",
    "    return df"
   ]
  },
  {
   "cell_type": "code",
   "execution_count": 106,
   "metadata": {},
   "outputs": [
    {
     "output_type": "execute_result",
     "data": {
      "text/plain": [
       "    player_id          player position  jersey_number\n",
       "0        6255      F. Assmann        G             35\n",
       "1       26299  Emiliano Insúa        D             26\n",
       "2        6404      J. Schunke        D              6\n",
       "3       26735   Emanuel Insúa        D             13\n",
       "4        6474          G. Gil        M              5\n",
       "5        6550        F. Grahl        F             10\n",
       "6        6211       G. Lodico        M             24\n",
       "7        6212       L. Maciel        M             33\n",
       "8      129900  J. Indacoechea        D             36\n",
       "9        6126      F. Andrada        F              7\n",
       "10       5791       M. Braida        F             20"
      ],
      "text/html": "<div>\n<style scoped>\n    .dataframe tbody tr th:only-of-type {\n        vertical-align: middle;\n    }\n\n    .dataframe tbody tr th {\n        vertical-align: top;\n    }\n\n    .dataframe thead th {\n        text-align: right;\n    }\n</style>\n<table border=\"1\" class=\"dataframe\">\n  <thead>\n    <tr style=\"text-align: right;\">\n      <th></th>\n      <th>player_id</th>\n      <th>player</th>\n      <th>position</th>\n      <th>jersey_number</th>\n    </tr>\n  </thead>\n  <tbody>\n    <tr>\n      <th>0</th>\n      <td>6255</td>\n      <td>F. Assmann</td>\n      <td>G</td>\n      <td>35</td>\n    </tr>\n    <tr>\n      <th>1</th>\n      <td>26299</td>\n      <td>Emiliano Insúa</td>\n      <td>D</td>\n      <td>26</td>\n    </tr>\n    <tr>\n      <th>2</th>\n      <td>6404</td>\n      <td>J. Schunke</td>\n      <td>D</td>\n      <td>6</td>\n    </tr>\n    <tr>\n      <th>3</th>\n      <td>26735</td>\n      <td>Emanuel Insúa</td>\n      <td>D</td>\n      <td>13</td>\n    </tr>\n    <tr>\n      <th>4</th>\n      <td>6474</td>\n      <td>G. Gil</td>\n      <td>M</td>\n      <td>5</td>\n    </tr>\n    <tr>\n      <th>5</th>\n      <td>6550</td>\n      <td>F. Grahl</td>\n      <td>F</td>\n      <td>10</td>\n    </tr>\n    <tr>\n      <th>6</th>\n      <td>6211</td>\n      <td>G. Lodico</td>\n      <td>M</td>\n      <td>24</td>\n    </tr>\n    <tr>\n      <th>7</th>\n      <td>6212</td>\n      <td>L. Maciel</td>\n      <td>M</td>\n      <td>33</td>\n    </tr>\n    <tr>\n      <th>8</th>\n      <td>129900</td>\n      <td>J. Indacoechea</td>\n      <td>D</td>\n      <td>36</td>\n    </tr>\n    <tr>\n      <th>9</th>\n      <td>6126</td>\n      <td>F. Andrada</td>\n      <td>F</td>\n      <td>7</td>\n    </tr>\n    <tr>\n      <th>10</th>\n      <td>5791</td>\n      <td>M. Braida</td>\n      <td>F</td>\n      <td>20</td>\n    </tr>\n  </tbody>\n</table>\n</div>"
     },
     "metadata": {},
     "execution_count": 106
    }
   ],
   "source": [
    "get_starting_11(463)"
   ]
  },
  {
   "cell_type": "code",
   "execution_count": 16,
   "metadata": {},
   "outputs": [],
   "source": [
    "def get_next_fixture_id(team_id):\n",
    "    url = \"https://api-football-v1.p.rapidapi.com/v3/fixtures\"\n",
    "\n",
    "    querystring = {\"next\":\"1\", 'team':str(team_id)}\n",
    "\n",
    "    headers = header_params\n",
    "\n",
    "    response = requests.request(\"GET\", url, headers=header_params, params=querystring)\n",
    "    data = json.loads(response.text)  \n",
    "    \n",
    "    return data['response'][0]['fixture']['id']"
   ]
  },
  {
   "cell_type": "code",
   "execution_count": 17,
   "metadata": {},
   "outputs": [
    {
     "output_type": "error",
     "ename": "IndexError",
     "evalue": "list index out of range",
     "traceback": [
      "\u001b[0;31m---------------------------------------------------------------------------\u001b[0m",
      "\u001b[0;31mIndexError\u001b[0m                                Traceback (most recent call last)",
      "\u001b[0;32m<ipython-input-17-d00e810b94f3>\u001b[0m in \u001b[0;36m<module>\u001b[0;34m\u001b[0m\n\u001b[0;32m----> 1\u001b[0;31m \u001b[0mget_next_fixture_id\u001b[0m\u001b[0;34m(\u001b[0m\u001b[0mteam_id_1\u001b[0m\u001b[0;34m)\u001b[0m\u001b[0;34m\u001b[0m\u001b[0;34m\u001b[0m\u001b[0m\n\u001b[0m",
      "\u001b[0;32m<ipython-input-16-a4f91451dc2d>\u001b[0m in \u001b[0;36mget_next_fixture_id\u001b[0;34m(team_id)\u001b[0m\n\u001b[1;32m      9\u001b[0m     \u001b[0mdata\u001b[0m \u001b[0;34m=\u001b[0m \u001b[0mjson\u001b[0m\u001b[0;34m.\u001b[0m\u001b[0mloads\u001b[0m\u001b[0;34m(\u001b[0m\u001b[0mresponse\u001b[0m\u001b[0;34m.\u001b[0m\u001b[0mtext\u001b[0m\u001b[0;34m)\u001b[0m\u001b[0;34m\u001b[0m\u001b[0;34m\u001b[0m\u001b[0m\n\u001b[1;32m     10\u001b[0m \u001b[0;34m\u001b[0m\u001b[0m\n\u001b[0;32m---> 11\u001b[0;31m     \u001b[0;32mreturn\u001b[0m \u001b[0mdata\u001b[0m\u001b[0;34m[\u001b[0m\u001b[0;34m'response'\u001b[0m\u001b[0;34m]\u001b[0m\u001b[0;34m[\u001b[0m\u001b[0;36m0\u001b[0m\u001b[0;34m]\u001b[0m\u001b[0;34m[\u001b[0m\u001b[0;34m'fixture'\u001b[0m\u001b[0;34m]\u001b[0m\u001b[0;34m[\u001b[0m\u001b[0;34m'id'\u001b[0m\u001b[0;34m]\u001b[0m\u001b[0;34m\u001b[0m\u001b[0;34m\u001b[0m\u001b[0m\n\u001b[0m",
      "\u001b[0;31mIndexError\u001b[0m: list index out of range"
     ]
    }
   ],
   "source": [
    "get_next_fixture_id(team_id_1)"
   ]
  },
  {
   "cell_type": "code",
   "execution_count": 118,
   "metadata": {},
   "outputs": [],
   "source": [
    "def _get_fixture_id_h2h(team_id_1, team_id_2, next=True):\n",
    "    url = \"https://api-football-v1.p.rapidapi.com/v3/fixtures/headtohead\"\n",
    "    \n",
    "    h2h_string = str(team_id_1)+'-'+str(team_id_2)\n",
    "\n",
    "    if next==True:\n",
    "        querystring = {\"next\":\"1\", 'h2h':h2h_string}\n",
    "    else: \n",
    "        querystring = {\"last\":\"1\", 'h2h':h2h_string}\n",
    "\n",
    "    response = requests.request(\"GET\", url, headers=header_params, params=querystring)\n",
    "    data = json.loads(response.text)  \n",
    "    \n",
    "    return data['response'][0]['fixture']['id']"
   ]
  },
  {
   "cell_type": "code",
   "execution_count": 119,
   "metadata": {},
   "outputs": [
    {
     "output_type": "execute_result",
     "data": {
      "text/plain": [
       "592831"
      ]
     },
     "metadata": {},
     "execution_count": 119
    }
   ],
   "source": [
    "get_fixture_id_h2h(team_id_1, team_id_2, next=False)"
   ]
  },
  {
   "cell_type": "code",
   "execution_count": 124,
   "metadata": {},
   "outputs": [],
   "source": [
    "def predictions(team_id_1, team_id_2):\n",
    "    try:\n",
    "        fixture_id = _get_fixture_id_h2h(team_id_1, team_id_2)\n",
    "    except:\n",
    "        print('using last fixture')\n",
    "        fixture_id = _get_fixture_id_h2h(team_id_1, team_id_2, next=False)\n",
    "    \n",
    "    url = \"https://api-football-v1.p.rapidapi.com/v3/predictions\"\n",
    "\n",
    "    querystring = {\"fixture\":fixture_id}\n",
    "\n",
    "    response = requests.request(\"GET\", url, headers=headers, params=querystring)\n",
    "    data = json.loads(response.text)\n",
    "\n",
    "    return data['response'][0]['predictions']\n"
   ]
  },
  {
   "cell_type": "code",
   "execution_count": 125,
   "metadata": {},
   "outputs": [
    {
     "output_type": "stream",
     "name": "stdout",
     "text": [
      "using last fixture\n"
     ]
    },
    {
     "output_type": "execute_result",
     "data": {
      "text/plain": [
       "{'winner': {'id': 40, 'name': 'Liverpool', 'comment': 'Win or draw'},\n",
       " 'win_or_draw': True,\n",
       " 'under_over': None,\n",
       " 'goals': {'home': '-2.5', 'away': '-2.5'},\n",
       " 'advice': 'Double chance : draw or Liverpool',\n",
       " 'percent': {'home': '10%', 'draw': '45%', 'away': '45%'}}"
      ]
     },
     "metadata": {},
     "execution_count": 125
    }
   ],
   "source": [
    "predictions(team_id_1, team_id_2)"
   ]
  },
  {
   "cell_type": "code",
   "execution_count": null,
   "metadata": {},
   "outputs": [],
   "source": []
  }
 ],
 "metadata": {
  "kernelspec": {
   "display_name": "Python 3",
   "language": "python",
   "name": "python3"
  },
  "language_info": {
   "codemirror_mode": {
    "name": "ipython",
    "version": 3
   },
   "file_extension": ".py",
   "mimetype": "text/x-python",
   "name": "python",
   "nbconvert_exporter": "python",
   "pygments_lexer": "ipython3",
   "version": "3.8.3"
  }
 },
 "nbformat": 4,
 "nbformat_minor": 4
}