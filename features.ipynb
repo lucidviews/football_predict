{
 "cells": [
  {
   "cell_type": "code",
   "execution_count": 31,
   "metadata": {},
   "outputs": [],
   "source": [
    "import requests\n",
    "import pandas as pd\n",
    "from pprint import pprint\n",
    "import json\n",
    "import datetime"
   ]
  },
  {
   "cell_type": "code",
   "execution_count": 5,
   "metadata": {},
   "outputs": [],
   "source": [
    "team1 = 'Manchester United'\n",
    "team2 = 'Borussia Dortmund'"
   ]
  },
  {
   "cell_type": "code",
   "execution_count": 6,
   "metadata": {},
   "outputs": [],
   "source": [
    "header_params = {\n",
    "            'x-rapidapi-key': \"848eec715emsh5f15e8bc1776ee0p1826d1jsn93d8284e8db5\",\n",
    "            'x-rapidapi-host': \"api-football-v1.p.rapidapi.com\"\n",
    "            }"
   ]
  },
  {
   "cell_type": "code",
   "execution_count": 9,
   "metadata": {},
   "outputs": [],
   "source": [
    "def get_team_id(team):    \n",
    "    url = \"https://api-football-v1.p.rapidapi.com/v3/teams\"\n",
    "\n",
    "    querystring = {\"name\":team}\n",
    "\n",
    "    response = requests.request(\"GET\", url, headers=header_params, params=querystring)\n",
    "\n",
    "    data = json.loads(response.text)\n",
    "    \n",
    "    return data['response'][0]['team']['id']"
   ]
  },
  {
   "cell_type": "code",
   "execution_count": 10,
   "metadata": {},
   "outputs": [],
   "source": [
    "team_id_1 = get_team_id(team1)\n",
    "team_id_2 = get_team_id(team2)"
   ]
  },
  {
   "cell_type": "code",
   "execution_count": 38,
   "metadata": {},
   "outputs": [
    {
     "name": "stdout",
     "output_type": "stream",
     "text": [
      "{\"get\":\"standings\",\"parameters\":{\"season\":\"2020\",\"team\":\"33\"},\"errors\":[],\"results\":2,\"paging\":{\"current\":1,\"total\":1},\"response\":[{\"league\":{\"id\":39,\"name\":\"Premier League\",\"country\":\"England\",\"logo\":\"https:\\/\\/media.api-sports.io\\/football\\/leagues\\/39.png\",\"flag\":\"https:\\/\\/media.api-sports.io\\/flags\\/gb.svg\",\"season\":2020,\"standings\":[[{\"rank\":2,\"team\":{\"id\":33,\"name\":\"Manchester United\",\"logo\":\"https:\\/\\/media.api-sports.io\\/football\\/teams\\/33.png\"},\"points\":74,\"goalsDiff\":29,\"group\":\"Premier League\",\"form\":\"WDLLW\",\"status\":\"same\",\"description\":\"Promotion - Champions League (Group Stage)\",\"all\":{\"played\":38,\"win\":21,\"draw\":11,\"lose\":6,\"goals\":{\"for\":73,\"against\":44}},\"home\":{\"played\":19,\"win\":9,\"draw\":4,\"lose\":6,\"goals\":{\"for\":38,\"against\":28}},\"away\":{\"played\":19,\"win\":12,\"draw\":7,\"lose\":0,\"goals\":{\"for\":35,\"against\":16}},\"update\":\"2021-05-23T00:00:00+00:00\"}]]}},{\"league\":{\"id\":2,\"name\":\"UEFA Champions League\",\"country\":\"World\",\"logo\":\"https:\\/\\/media.api-sports.io\\/football\\/leagues\\/2.png\",\"flag\":null,\"season\":2020,\"standings\":[[{\"rank\":3,\"team\":{\"id\":33,\"name\":\"Manchester United\",\"logo\":\"https:\\/\\/media.api-sports.io\\/football\\/teams\\/33.png\"},\"points\":9,\"goalsDiff\":5,\"group\":\"UEFA Champions League: Group H\",\"form\":\"LLWLW\",\"status\":\"same\",\"description\":\"Promotion - Europa League (Round of 32)\",\"all\":{\"played\":6,\"win\":3,\"draw\":0,\"lose\":3,\"goals\":{\"for\":15,\"against\":10}},\"home\":{\"played\":3,\"win\":2,\"draw\":0,\"lose\":1,\"goals\":{\"for\":10,\"against\":4}},\"away\":{\"played\":3,\"win\":1,\"draw\":0,\"lose\":2,\"goals\":{\"for\":5,\"against\":6}},\"update\":\"2021-04-13T00:00:00+00:00\"}]]}}]}\n"
     ]
    }
   ],
   "source": [
    "url = \"https://api-football-v1.p.rapidapi.com/v3/standings\"\n",
    "\n",
    "querystring = {\"season\":\"2020\",\"team\":\"33\"}\n",
    "\n",
    "response = requests.request(\"GET\", url, headers=header_params, params=querystring)\n",
    "\n",
    "print(response.text)"
   ]
  },
  {
   "cell_type": "code",
   "execution_count": 27,
   "metadata": {},
   "outputs": [],
   "source": [
    "def get_standings(team_id):\n",
    "    url = \"https://api-football-v1.p.rapidapi.com/v3/standings\"\n",
    "    \n",
    "    year = datetime.datetime.now().year\n",
    "\n",
    "    querystring = {\"season\":str(year-1),\"team\":str(team_id)}\n",
    "\n",
    "    response = requests.request(\"GET\", url, headers=header_params, params=querystring)\n",
    "    \n",
    "    data = json.loads(response.text)\n",
    "    \n",
    "    return data['response'][0]['league']['standings'][0][0]['rank']"
   ]
  },
  {
   "cell_type": "code",
   "execution_count": 28,
   "metadata": {},
   "outputs": [
    {
     "data": {
      "text/plain": [
       "2"
      ]
     },
     "execution_count": 28,
     "metadata": {},
     "output_type": "execute_result"
    }
   ],
   "source": [
    "get_standings(team_id_1)"
   ]
  },
  {
   "cell_type": "code",
   "execution_count": 54,
   "metadata": {},
   "outputs": [],
   "source": [
    "def get_h2h(team_id_1, team_id_2):    \n",
    "    url = \"https://api-football-v1.p.rapidapi.com/v3/fixtures/headtohead\"\n",
    "    \n",
    "    team_id_1 = get_team_id(team1)\n",
    "    team_id_2 = get_team_id(team2)\n",
    "    \n",
    "    h2h_string = str(team_id_1)+'-'+str(team_id_2)\n",
    "\n",
    "    querystring = {\"h2h\":h2h_string}\n",
    "\n",
    "    headers = header_params\n",
    "\n",
    "    response = requests.request(\"GET\", url, headers=headers, params=querystring)\n",
    "    data = json.loads(response.text)\n",
    "\n",
    "    df = pd.DataFrame([d['teams']['home']['name'], \n",
    "                       d['teams']['away']['name'],\n",
    "                       d['fixture']['date'],\n",
    "                       d['goals']['home'],\n",
    "                       d['goals']['away']] for d in data['response'])\n",
    "    df = df.rename(columns={0:'home_team', 1:'away_team', 2:'date', 3:'home_goals', 4:'away_goals'})\n",
    "    \n",
    "    return df"
   ]
  },
  {
   "cell_type": "code",
   "execution_count": 55,
   "metadata": {},
   "outputs": [
    {
     "data": {
      "text/html": [
       "<div>\n",
       "<style scoped>\n",
       "    .dataframe tbody tr th:only-of-type {\n",
       "        vertical-align: middle;\n",
       "    }\n",
       "\n",
       "    .dataframe tbody tr th {\n",
       "        vertical-align: top;\n",
       "    }\n",
       "\n",
       "    .dataframe thead th {\n",
       "        text-align: right;\n",
       "    }\n",
       "</style>\n",
       "<table border=\"1\" class=\"dataframe\">\n",
       "  <thead>\n",
       "    <tr style=\"text-align: right;\">\n",
       "      <th></th>\n",
       "      <th>home_team</th>\n",
       "      <th>away_team</th>\n",
       "      <th>date</th>\n",
       "      <th>home_goals</th>\n",
       "      <th>away_goals</th>\n",
       "    </tr>\n",
       "  </thead>\n",
       "  <tbody>\n",
       "    <tr>\n",
       "      <th>0</th>\n",
       "      <td>Manchester United</td>\n",
       "      <td>Borussia Dortmund</td>\n",
       "      <td>2016-07-22T12:00:00+00:00</td>\n",
       "      <td>1</td>\n",
       "      <td>4</td>\n",
       "    </tr>\n",
       "  </tbody>\n",
       "</table>\n",
       "</div>"
      ],
      "text/plain": [
       "           home_team          away_team                       date  \\\n",
       "0  Manchester United  Borussia Dortmund  2016-07-22T12:00:00+00:00   \n",
       "\n",
       "   home_goals  away_goals  \n",
       "0           1           4  "
      ]
     },
     "execution_count": 55,
     "metadata": {},
     "output_type": "execute_result"
    }
   ],
   "source": [
    "get_h2h(team1, team2)"
   ]
  },
  {
   "cell_type": "code",
   "execution_count": 75,
   "metadata": {},
   "outputs": [],
   "source": [
    "def get_injured_player(fixture_id):\n",
    "    url = \"https://api-football-v1.p.rapidapi.com/v3/injuries\"\n",
    "\n",
    "    querystring = {'fixture':str(fixture_id)}\n",
    "\n",
    "    headers = header_params\n",
    "\n",
    "    response = requests.request(\"GET\", url, headers=headers, params=querystring)\n",
    "    data = json.loads(response.text)\n",
    "\n",
    "    df = pd.DataFrame([d['player']['id'], d['player_name']['name']] for d in data['response'])\n",
    "    df = df.rename(columns={0:'player_id', 1:'player'})\n",
    "\n",
    "    return df"
   ]
  },
  {
   "cell_type": "code",
   "execution_count": 93,
   "metadata": {},
   "outputs": [],
   "source": [
    "def get_starting_11(team_id, fixture_id):\n",
    "    url = \"https://api-football-v1.p.rapidapi.com/v3/fixtures/lineups\"\n",
    "\n",
    "    querystring = {\"team\":str(team_id), 'fixture':str(fixture_id)}\n",
    "\n",
    "    headers = header_params\n",
    "\n",
    "    response = requests.request(\"GET\", url, headers=headers, params=querystring)\n",
    "    data = json.loads(response.text)\n",
    "    \n",
    "    starting_player_ids = [p['player']['id'] for p in data['response'][0]['startXI']]\n",
    "\n",
    "    return starting_player_ids"
   ]
  },
  {
   "cell_type": "code",
   "execution_count": 90,
   "metadata": {},
   "outputs": [
    {
     "data": {
      "text/plain": [
       "[6258, 6261, 52701, 6268, 6262, 6474, 6269, 6212, 6093, 6126, 6561]"
      ]
     },
     "execution_count": 90,
     "metadata": {},
     "output_type": "execute_result"
    }
   ],
   "source": [
    "get_starting_11(463, 215662)"
   ]
  },
  {
   "cell_type": "code",
   "execution_count": 105,
   "metadata": {},
   "outputs": [],
   "source": [
    "def get_last_10_fixture_ids(team_id):\n",
    "    url = \"https://api-football-v1.p.rapidapi.com/v3/fixtures\"\n",
    "\n",
    "    querystring = {\"last\":\"10\", 'team':str(team_id)}\n",
    "\n",
    "    headers = header_params\n",
    "\n",
    "    response = requests.request(\"GET\", url, headers=headers, params=querystring)\n",
    "    data = json.loads(response.text)\n",
    "    \n",
    "    fixture_ids = [f['fixture']['id'] for f in data['response']]\n",
    "\n",
    "    return fixture_ids"
   ]
  },
  {
   "cell_type": "code",
   "execution_count": 106,
   "metadata": {},
   "outputs": [
    {
     "data": {
      "text/plain": [
       "[702510,\n",
       " 592875,\n",
       " 592861,\n",
       " 592831,\n",
       " 592849,\n",
       " 592837,\n",
       " 698712,\n",
       " 698711,\n",
       " 592819,\n",
       " 592812]"
      ]
     },
     "execution_count": 106,
     "metadata": {},
     "output_type": "execute_result"
    }
   ],
   "source": [
    "get_last_10_fixture_ids(team_id_1)"
   ]
  },
  {
   "cell_type": "code",
   "execution_count": 98,
   "metadata": {},
   "outputs": [],
   "source": [
    "def get_next_fixture_id(team_id):\n",
    "    url = \"https://api-football-v1.p.rapidapi.com/v3/fixtures\"\n",
    "\n",
    "    querystring = {\"next\":\"1\", 'team':str(team_id)}\n",
    "\n",
    "    headers = header_params\n",
    "\n",
    "    response = requests.request(\"GET\", url, headers=headers, params=querystring)\n",
    "    data = json.loads(response.text)  \n",
    "    \n",
    "    return data['response'][0]['fixture']['id']"
   ]
  },
  {
   "cell_type": "code",
   "execution_count": 99,
   "metadata": {},
   "outputs": [
    {
     "ename": "IndexError",
     "evalue": "list index out of range",
     "output_type": "error",
     "traceback": [
      "\u001b[0;31m---------------------------------------------------------------------------\u001b[0m",
      "\u001b[0;31mIndexError\u001b[0m                                Traceback (most recent call last)",
      "\u001b[0;32m<ipython-input-99-d00e810b94f3>\u001b[0m in \u001b[0;36m<module>\u001b[0;34m\u001b[0m\n\u001b[0;32m----> 1\u001b[0;31m \u001b[0mget_next_fixture_id\u001b[0m\u001b[0;34m(\u001b[0m\u001b[0mteam_id_1\u001b[0m\u001b[0;34m)\u001b[0m\u001b[0;34m\u001b[0m\u001b[0;34m\u001b[0m\u001b[0m\n\u001b[0m",
      "\u001b[0;32m<ipython-input-98-a4f91451dc2d>\u001b[0m in \u001b[0;36mget_next_fixture_id\u001b[0;34m(team_id)\u001b[0m\n\u001b[1;32m      9\u001b[0m     \u001b[0mdata\u001b[0m \u001b[0;34m=\u001b[0m \u001b[0mjson\u001b[0m\u001b[0;34m.\u001b[0m\u001b[0mloads\u001b[0m\u001b[0;34m(\u001b[0m\u001b[0mresponse\u001b[0m\u001b[0;34m.\u001b[0m\u001b[0mtext\u001b[0m\u001b[0;34m)\u001b[0m\u001b[0;34m\u001b[0m\u001b[0;34m\u001b[0m\u001b[0m\n\u001b[1;32m     10\u001b[0m \u001b[0;34m\u001b[0m\u001b[0m\n\u001b[0;32m---> 11\u001b[0;31m     \u001b[0;32mreturn\u001b[0m \u001b[0mdata\u001b[0m\u001b[0;34m[\u001b[0m\u001b[0;34m'response'\u001b[0m\u001b[0;34m]\u001b[0m\u001b[0;34m[\u001b[0m\u001b[0;36m0\u001b[0m\u001b[0;34m]\u001b[0m\u001b[0;34m[\u001b[0m\u001b[0;34m'fixture'\u001b[0m\u001b[0;34m]\u001b[0m\u001b[0;34m[\u001b[0m\u001b[0;34m'id'\u001b[0m\u001b[0;34m]\u001b[0m\u001b[0;34m\u001b[0m\u001b[0;34m\u001b[0m\u001b[0m\n\u001b[0m",
      "\u001b[0;31mIndexError\u001b[0m: list index out of range"
     ]
    }
   ],
   "source": [
    "get_next_fixture_id(team_id_1)"
   ]
  },
  {
   "cell_type": "code",
   "execution_count": 110,
   "metadata": {},
   "outputs": [],
   "source": [
    "def num_important_injured_players(team_id):\n",
    "    try:\n",
    "        num_important_injured_players = 0\n",
    "        upcoming_fixture_id = get_next_fixture_id(team_id)\n",
    "        df = get_injured_player(upcoming_fixture_id)\n",
    "        if len(df['player_id'])==0:\n",
    "            print('No players injured')\n",
    "        else:\n",
    "            last_10_fixture_ids = get_last_10_fixture_ids(team_id)\n",
    "            important_players = []\n",
    "            for fixture in last_10_fixture_ids:\n",
    "                starting_11 = get_starting_11(fixture, team_id)\n",
    "                for player in starting_11:\n",
    "                    important_players.append(player)\n",
    "            for player in df['player_id']:\n",
    "                if player in important_players:\n",
    "                    num_important_injured_players += 1\n",
    "        return num_important_injured_players\n",
    "    except:\n",
    "        print('There is no upcoming reference game available')"
   ]
  },
  {
   "cell_type": "code",
   "execution_count": 112,
   "metadata": {},
   "outputs": [
    {
     "name": "stdout",
     "output_type": "stream",
     "text": [
      "There is no upcoming reference game available\n",
      "There is no upcoming reference game available\n",
      "There is no upcoming reference game available\n",
      "There is no upcoming reference game available\n",
      "There is no upcoming reference game available\n",
      "There is no upcoming reference game available\n",
      "There is no upcoming reference game available\n",
      "There is no upcoming reference game available\n",
      "There is no upcoming reference game available\n",
      "There is no upcoming reference game available\n",
      "There is no upcoming reference game available\n",
      "There is no upcoming reference game available\n",
      "There is no upcoming reference game available\n",
      "There is no upcoming reference game available\n",
      "There is no upcoming reference game available\n",
      "There is no upcoming reference game available\n",
      "There is no upcoming reference game available\n",
      "There is no upcoming reference game available\n",
      "There is no upcoming reference game available\n",
      "There is no upcoming reference game available\n",
      "There is no upcoming reference game available\n",
      "There is no upcoming reference game available\n",
      "There is no upcoming reference game available\n",
      "There is no upcoming reference game available\n",
      "There is no upcoming reference game available\n",
      "There is no upcoming reference game available\n",
      "There is no upcoming reference game available\n",
      "There is no upcoming reference game available\n",
      "There is no upcoming reference game available\n",
      "There is no upcoming reference game available\n",
      "There is no upcoming reference game available\n",
      "There is no upcoming reference game available\n",
      "There is no upcoming reference game available\n",
      "There is no upcoming reference game available\n",
      "There is no upcoming reference game available\n",
      "There is no upcoming reference game available\n",
      "There is no upcoming reference game available\n",
      "There is no upcoming reference game available\n",
      "There is no upcoming reference game available\n",
      "There is no upcoming reference game available\n",
      "There is no upcoming reference game available\n",
      "There is no upcoming reference game available\n",
      "There is no upcoming reference game available\n",
      "There is no upcoming reference game available\n",
      "There is no upcoming reference game available\n",
      "There is no upcoming reference game available\n",
      "There is no upcoming reference game available\n",
      "There is no upcoming reference game available\n",
      "There is no upcoming reference game available\n",
      "There is no upcoming reference game available\n"
     ]
    }
   ],
   "source": [
    "for i in range(100,150):\n",
    "    num_important_injured_players(i)"
   ]
  },
  {
   "cell_type": "code",
   "execution_count": null,
   "metadata": {},
   "outputs": [],
   "source": []
  }
 ],
 "metadata": {
  "kernelspec": {
   "display_name": "Python 3",
   "language": "python",
   "name": "python3"
  },
  "language_info": {
   "codemirror_mode": {
    "name": "ipython",
    "version": 3
   },
   "file_extension": ".py",
   "mimetype": "text/x-python",
   "name": "python",
   "nbconvert_exporter": "python",
   "pygments_lexer": "ipython3",
   "version": "3.8.3"
  }
 },
 "nbformat": 4,
 "nbformat_minor": 4
}
