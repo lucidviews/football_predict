{
 "cells": [
  {
   "cell_type": "markdown",
   "metadata": {},
   "source": [
    "### Extraction of non dynmanic data from the api endpoint."
   ]
  },
  {
   "cell_type": "code",
   "execution_count": 3,
   "metadata": {},
   "outputs": [],
   "source": [
    "import json\n",
    "import pandas as pd"
   ]
  },
  {
   "cell_type": "code",
   "execution_count": 4,
   "metadata": {},
   "outputs": [
    {
     "data": {
      "text/plain": [
       "{'get': 'standings',\n",
       " 'parameters': {'season': '2020', 'team': '78'},\n",
       " 'errors': [],\n",
       " 'results': 1,\n",
       " 'paging': {'current': 1, 'total': 1},\n",
       " 'response': [{'league': {'id': 61,\n",
       "    'name': 'Ligue 1',\n",
       "    'country': 'France',\n",
       "    'logo': 'https://media.api-sports.io/football/leagues/61.png',\n",
       "    'flag': 'https://media.api-sports.io/flags/fr.svg',\n",
       "    'season': 2020,\n",
       "    'standings': [[{'rank': 12,\n",
       "       'team': {'id': 78,\n",
       "        'name': 'Bordeaux',\n",
       "        'logo': 'https://media.api-sports.io/football/teams/78.png'},\n",
       "       'points': 45,\n",
       "       'goalsDiff': -14,\n",
       "       'group': 'Ligue 1',\n",
       "       'form': 'WWLWL',\n",
       "       'status': 'same',\n",
       "       'description': None,\n",
       "       'all': {'played': 38,\n",
       "        'win': 13,\n",
       "        'draw': 6,\n",
       "        'lose': 19,\n",
       "        'goals': {'for': 42, 'against': 56}},\n",
       "       'home': {'played': 19,\n",
       "        'win': 7,\n",
       "        'draw': 4,\n",
       "        'lose': 8,\n",
       "        'goals': {'for': 19, 'against': 21}},\n",
       "       'away': {'played': 19,\n",
       "        'win': 6,\n",
       "        'draw': 2,\n",
       "        'lose': 11,\n",
       "        'goals': {'for': 23, 'against': 35}},\n",
       "       'update': '2021-05-26T00:00:00+00:00'}]]}}]}"
      ]
     },
     "execution_count": 4,
     "metadata": {},
     "output_type": "execute_result"
    }
   ],
   "source": [
    "import requests\n",
    "\n",
    "url = \"https://api-football-v1.p.rapidapi.com/v3/standings\"\n",
    "\n",
    "querystring = {\"season\":\"2020\",\"team\":\"78\"}\n",
    "\n",
    "headers = {\n",
    "    'x-rapidapi-key': \"ef16f854ecmshc641f9132935275p177f18jsn10486bde6e57\",\n",
    "    'x-rapidapi-host': \"api-football-v1.p.rapidapi.com\"\n",
    "    }\n",
    "\n",
    "response = requests.request(\"GET\", url, headers=headers, params=querystring)\n",
    "\n",
    "standings = json.loads(response.text)\n",
    "standings"
   ]
  },
  {
   "cell_type": "code",
   "execution_count": 5,
   "metadata": {},
   "outputs": [
    {
     "data": {
      "text/plain": [
       "[[{'rank': 12,\n",
       "   'team': {'id': 78,\n",
       "    'name': 'Bordeaux',\n",
       "    'logo': 'https://media.api-sports.io/football/teams/78.png'},\n",
       "   'points': 45,\n",
       "   'goalsDiff': -14,\n",
       "   'group': 'Ligue 1',\n",
       "   'form': 'WWLWL',\n",
       "   'status': 'same',\n",
       "   'description': None,\n",
       "   'all': {'played': 38,\n",
       "    'win': 13,\n",
       "    'draw': 6,\n",
       "    'lose': 19,\n",
       "    'goals': {'for': 42, 'against': 56}},\n",
       "   'home': {'played': 19,\n",
       "    'win': 7,\n",
       "    'draw': 4,\n",
       "    'lose': 8,\n",
       "    'goals': {'for': 19, 'against': 21}},\n",
       "   'away': {'played': 19,\n",
       "    'win': 6,\n",
       "    'draw': 2,\n",
       "    'lose': 11,\n",
       "    'goals': {'for': 23, 'against': 35}},\n",
       "   'update': '2021-05-26T00:00:00+00:00'}]]"
      ]
     },
     "execution_count": 5,
     "metadata": {},
     "output_type": "execute_result"
    }
   ],
   "source": [
    "standings[\"response\"][0][\"league\"][\"standings\"]"
   ]
  },
  {
   "cell_type": "code",
   "execution_count": 6,
   "metadata": {},
   "outputs": [
    {
     "data": {
      "text/plain": [
       "dict_keys(['get', 'parameters', 'errors', 'results', 'paging', 'response'])"
      ]
     },
     "execution_count": 6,
     "metadata": {},
     "output_type": "execute_result"
    }
   ],
   "source": [
    "import requests\n",
    "\n",
    "url = \"https://api-football-v1.p.rapidapi.com/v3/standings\"\n",
    "\n",
    "querystring = {\"season\":\"2020\",\"league\":\"78\"}\n",
    "\n",
    "headers = {\n",
    "    'x-rapidapi-key': \"ef16f854ecmshc641f9132935275p177f18jsn10486bde6e57\",\n",
    "    'x-rapidapi-host': \"api-football-v1.p.rapidapi.com\"\n",
    "    }\n",
    "\n",
    "response = requests.request(\"GET\", url, headers=headers, params=querystring)\n",
    "\n",
    "bundestands = json.loads(response.text)\n",
    "bundestands.keys()\n",
    "\n"
   ]
  },
  {
   "cell_type": "code",
   "execution_count": 7,
   "metadata": {},
   "outputs": [
    {
     "data": {
      "text/plain": [
       "{'id': 165,\n",
       " 'name': 'Borussia Dortmund',\n",
       " 'logo': 'https://media.api-sports.io/football/teams/165.png'}"
      ]
     },
     "execution_count": 7,
     "metadata": {},
     "output_type": "execute_result"
    }
   ],
   "source": [
    "bundestands[\"response\"][0][\"league\"][\"standings\"][0][2][\"team\"]"
   ]
  },
  {
   "cell_type": "code",
   "execution_count": 8,
   "metadata": {},
   "outputs": [
    {
     "data": {
      "text/plain": [
       "{'rank': 3,\n",
       " 'team': {'id': 165,\n",
       "  'name': 'Borussia Dortmund',\n",
       "  'logo': 'https://media.api-sports.io/football/teams/165.png'},\n",
       " 'points': 64,\n",
       " 'goalsDiff': 29,\n",
       " 'group': 'Bundesliga',\n",
       " 'form': 'WWWWW',\n",
       " 'status': 'same',\n",
       " 'description': 'Promotion - Champions League (Group Stage)',\n",
       " 'all': {'played': 34,\n",
       "  'win': 20,\n",
       "  'draw': 4,\n",
       "  'lose': 10,\n",
       "  'goals': {'for': 75, 'against': 46}},\n",
       " 'home': {'played': 17,\n",
       "  'win': 11,\n",
       "  'draw': 2,\n",
       "  'lose': 4,\n",
       "  'goals': {'for': 40, 'against': 20}},\n",
       " 'away': {'played': 17,\n",
       "  'win': 9,\n",
       "  'draw': 2,\n",
       "  'lose': 6,\n",
       "  'goals': {'for': 35, 'against': 26}},\n",
       " 'update': '2021-05-26T00:00:00+00:00'}"
      ]
     },
     "execution_count": 8,
     "metadata": {},
     "output_type": "execute_result"
    }
   ],
   "source": [
    "bundestands[\"response\"][0][\"league\"][\"standings\"][0][2]"
   ]
  },
  {
   "cell_type": "code",
   "execution_count": 9,
   "metadata": {},
   "outputs": [
    {
     "name": "stdout",
     "output_type": "stream",
     "text": [
      "1 : Bayern Munich 78\n",
      "2 : RB Leipzig 65\n",
      "3 : Borussia Dortmund 64\n",
      "4 : VfL Wolfsburg 61\n",
      "5 : Eintracht Frankfurt 60\n",
      "6 : Bayer Leverkusen 52\n",
      "7 : Union Berlin 50\n",
      "8 : Borussia Monchengladbach 49\n",
      "9 : VfB Stuttgart 45\n",
      "10 : SC Freiburg 45\n",
      "11 : 1899 Hoffenheim 43\n",
      "12 : FSV Mainz 05 39\n",
      "13 : FC Augsburg 36\n",
      "14 : Hertha Berlin 35\n",
      "15 : Arminia Bielefeld 35\n",
      "16 : FC Koln 33\n",
      "17 : Werder Bremen 31\n",
      "18 : FC Schalke 04 16\n"
     ]
    }
   ],
   "source": [
    "for i in range(18):\n",
    "    print(bundestands[\"response\"][0][\"league\"][\"standings\"][0][i][\"rank\"],\":\", bundestands[\"response\"][0][\"league\"][\"standings\"][0][i][\"team\"][\"name\"], bundestands[\"response\"][0][\"league\"][\"standings\"][0][i][\"points\"])\n"
   ]
  },
  {
   "cell_type": "code",
   "execution_count": 10,
   "metadata": {},
   "outputs": [
    {
     "name": "stdout",
     "output_type": "stream",
     "text": [
      "Bayern Munich\n",
      "RB Leipzig\n",
      "Borussia Dortmund\n",
      "VfL Wolfsburg\n",
      "Eintracht Frankfurt\n",
      "Bayer Leverkusen\n",
      "Union Berlin\n",
      "Borussia Monchengladbach\n",
      "VfB Stuttgart\n",
      "SC Freiburg\n",
      "1899 Hoffenheim\n",
      "FSV Mainz 05\n",
      "FC Augsburg\n",
      "Hertha Berlin\n",
      "Arminia Bielefeld\n",
      "FC Koln\n",
      "Werder Bremen\n",
      "FC Schalke 04\n"
     ]
    }
   ],
   "source": [
    "for i in range(18):\n",
    "    print(bundestands[\"response\"][0][\"league\"][\"standings\"][0][i][\"team\"][\"name\"])"
   ]
  },
  {
   "cell_type": "code",
   "execution_count": 11,
   "metadata": {},
   "outputs": [
    {
     "data": {
      "text/html": [
       "<div>\n",
       "<style scoped>\n",
       "    .dataframe tbody tr th:only-of-type {\n",
       "        vertical-align: middle;\n",
       "    }\n",
       "\n",
       "    .dataframe tbody tr th {\n",
       "        vertical-align: top;\n",
       "    }\n",
       "\n",
       "    .dataframe thead th {\n",
       "        text-align: right;\n",
       "    }\n",
       "</style>\n",
       "<table border=\"1\" class=\"dataframe\">\n",
       "  <thead>\n",
       "    <tr style=\"text-align: right;\">\n",
       "      <th></th>\n",
       "      <th>Position</th>\n",
       "      <th>Club</th>\n",
       "      <th>Points</th>\n",
       "      <th>Played</th>\n",
       "      <th>Win</th>\n",
       "      <th>Draw</th>\n",
       "      <th>Lose</th>\n",
       "      <th>Last 5</th>\n",
       "      <th>GD</th>\n",
       "    </tr>\n",
       "  </thead>\n",
       "  <tbody>\n",
       "  </tbody>\n",
       "</table>\n",
       "</div>"
      ],
      "text/plain": [
       "Empty DataFrame\n",
       "Columns: [Position, Club, Points, Played, Win, Draw, Lose, Last 5, GD]\n",
       "Index: []"
      ]
     },
     "execution_count": 11,
     "metadata": {},
     "output_type": "execute_result"
    }
   ],
   "source": [
    "column_names = [\"Position\", \"Club\", \"Points\", \"Played\", \"Win\", \"Draw\", \"Lose\", \"Last 5\", \"GD\"]\n",
    "df = pd.DataFrame(columns= column_names)\n",
    "df"
   ]
  },
  {
   "cell_type": "code",
   "execution_count": 12,
   "metadata": {},
   "outputs": [],
   "source": [
    "df[\"Position\"] = [bundestands[\"response\"][0][\"league\"][\"standings\"][0][i][\"rank\"] for i in range(18)]\n",
    "df[\"Club\"] = [bundestands[\"response\"][0][\"league\"][\"standings\"][0][i][\"team\"][\"name\"] for i in range(18)]\n",
    "df[\"Points\"] = [bundestands[\"response\"][0][\"league\"][\"standings\"][0][i][\"points\"] for i in range(18)]\n",
    "df[\"Played\"] = [bundestands[\"response\"][0][\"league\"][\"standings\"][0][i][\"all\"][\"played\"] for i in range(18)]\n",
    "df[\"Win\"] = [bundestands[\"response\"][0][\"league\"][\"standings\"][0][i][\"all\"][\"win\"] for i in range(18)]\n",
    "df[\"Draw\"] = [bundestands[\"response\"][0][\"league\"][\"standings\"][0][i][\"all\"][\"draw\"] for i in range(18)]\n",
    "df[\"Lose\"] = [bundestands[\"response\"][0][\"league\"][\"standings\"][0][i][\"all\"][\"lose\"] for i in range(18)]\n",
    "df[\"Last 5\"] = [bundestands[\"response\"][0][\"league\"][\"standings\"][0][i][\"form\"] for i in range(18)]\n",
    "df[\"GD\"] = [bundestands[\"response\"][0][\"league\"][\"standings\"][0][i][\"goalsDiff\"] for i in range(18)]"
   ]
  },
  {
   "cell_type": "code",
   "execution_count": 13,
   "metadata": {},
   "outputs": [
    {
     "data": {
      "text/html": [
       "<div>\n",
       "<style scoped>\n",
       "    .dataframe tbody tr th:only-of-type {\n",
       "        vertical-align: middle;\n",
       "    }\n",
       "\n",
       "    .dataframe tbody tr th {\n",
       "        vertical-align: top;\n",
       "    }\n",
       "\n",
       "    .dataframe thead th {\n",
       "        text-align: right;\n",
       "    }\n",
       "</style>\n",
       "<table border=\"1\" class=\"dataframe\">\n",
       "  <thead>\n",
       "    <tr style=\"text-align: right;\">\n",
       "      <th></th>\n",
       "      <th>Position</th>\n",
       "      <th>Club</th>\n",
       "      <th>Points</th>\n",
       "      <th>Played</th>\n",
       "      <th>Win</th>\n",
       "      <th>Draw</th>\n",
       "      <th>Lose</th>\n",
       "      <th>Last 5</th>\n",
       "      <th>GD</th>\n",
       "    </tr>\n",
       "  </thead>\n",
       "  <tbody>\n",
       "    <tr>\n",
       "      <th>0</th>\n",
       "      <td>1</td>\n",
       "      <td>Bayern Munich</td>\n",
       "      <td>78</td>\n",
       "      <td>34</td>\n",
       "      <td>24</td>\n",
       "      <td>6</td>\n",
       "      <td>4</td>\n",
       "      <td>WDWLW</td>\n",
       "      <td>55</td>\n",
       "    </tr>\n",
       "    <tr>\n",
       "      <th>1</th>\n",
       "      <td>2</td>\n",
       "      <td>RB Leipzig</td>\n",
       "      <td>65</td>\n",
       "      <td>34</td>\n",
       "      <td>19</td>\n",
       "      <td>8</td>\n",
       "      <td>7</td>\n",
       "      <td>LDLWL</td>\n",
       "      <td>28</td>\n",
       "    </tr>\n",
       "    <tr>\n",
       "      <th>2</th>\n",
       "      <td>3</td>\n",
       "      <td>Borussia Dortmund</td>\n",
       "      <td>64</td>\n",
       "      <td>34</td>\n",
       "      <td>20</td>\n",
       "      <td>4</td>\n",
       "      <td>10</td>\n",
       "      <td>WWWWW</td>\n",
       "      <td>29</td>\n",
       "    </tr>\n",
       "    <tr>\n",
       "      <th>3</th>\n",
       "      <td>4</td>\n",
       "      <td>VfL Wolfsburg</td>\n",
       "      <td>61</td>\n",
       "      <td>34</td>\n",
       "      <td>17</td>\n",
       "      <td>10</td>\n",
       "      <td>7</td>\n",
       "      <td>LDWLW</td>\n",
       "      <td>24</td>\n",
       "    </tr>\n",
       "    <tr>\n",
       "      <th>4</th>\n",
       "      <td>5</td>\n",
       "      <td>Eintracht Frankfurt</td>\n",
       "      <td>60</td>\n",
       "      <td>34</td>\n",
       "      <td>16</td>\n",
       "      <td>12</td>\n",
       "      <td>6</td>\n",
       "      <td>WLDLW</td>\n",
       "      <td>16</td>\n",
       "    </tr>\n",
       "    <tr>\n",
       "      <th>5</th>\n",
       "      <td>6</td>\n",
       "      <td>Bayer Leverkusen</td>\n",
       "      <td>52</td>\n",
       "      <td>34</td>\n",
       "      <td>14</td>\n",
       "      <td>10</td>\n",
       "      <td>10</td>\n",
       "      <td>LDDWL</td>\n",
       "      <td>14</td>\n",
       "    </tr>\n",
       "    <tr>\n",
       "      <th>6</th>\n",
       "      <td>7</td>\n",
       "      <td>Union Berlin</td>\n",
       "      <td>50</td>\n",
       "      <td>34</td>\n",
       "      <td>12</td>\n",
       "      <td>14</td>\n",
       "      <td>8</td>\n",
       "      <td>WDLWL</td>\n",
       "      <td>7</td>\n",
       "    </tr>\n",
       "    <tr>\n",
       "      <th>7</th>\n",
       "      <td>8</td>\n",
       "      <td>Borussia Monchengladbach</td>\n",
       "      <td>49</td>\n",
       "      <td>34</td>\n",
       "      <td>13</td>\n",
       "      <td>10</td>\n",
       "      <td>11</td>\n",
       "      <td>WLLWL</td>\n",
       "      <td>8</td>\n",
       "    </tr>\n",
       "    <tr>\n",
       "      <th>8</th>\n",
       "      <td>9</td>\n",
       "      <td>VfB Stuttgart</td>\n",
       "      <td>45</td>\n",
       "      <td>34</td>\n",
       "      <td>12</td>\n",
       "      <td>9</td>\n",
       "      <td>13</td>\n",
       "      <td>LWWLL</td>\n",
       "      <td>1</td>\n",
       "    </tr>\n",
       "    <tr>\n",
       "      <th>9</th>\n",
       "      <td>10</td>\n",
       "      <td>SC Freiburg</td>\n",
       "      <td>45</td>\n",
       "      <td>34</td>\n",
       "      <td>12</td>\n",
       "      <td>9</td>\n",
       "      <td>13</td>\n",
       "      <td>LDWLD</td>\n",
       "      <td>0</td>\n",
       "    </tr>\n",
       "    <tr>\n",
       "      <th>10</th>\n",
       "      <td>11</td>\n",
       "      <td>1899 Hoffenheim</td>\n",
       "      <td>43</td>\n",
       "      <td>34</td>\n",
       "      <td>11</td>\n",
       "      <td>10</td>\n",
       "      <td>13</td>\n",
       "      <td>WDWDW</td>\n",
       "      <td>-2</td>\n",
       "    </tr>\n",
       "    <tr>\n",
       "      <th>11</th>\n",
       "      <td>12</td>\n",
       "      <td>FSV Mainz 05</td>\n",
       "      <td>39</td>\n",
       "      <td>34</td>\n",
       "      <td>10</td>\n",
       "      <td>9</td>\n",
       "      <td>15</td>\n",
       "      <td>WLDDW</td>\n",
       "      <td>-17</td>\n",
       "    </tr>\n",
       "    <tr>\n",
       "      <th>12</th>\n",
       "      <td>13</td>\n",
       "      <td>FC Augsburg</td>\n",
       "      <td>36</td>\n",
       "      <td>34</td>\n",
       "      <td>10</td>\n",
       "      <td>6</td>\n",
       "      <td>18</td>\n",
       "      <td>LWLLL</td>\n",
       "      <td>-18</td>\n",
       "    </tr>\n",
       "    <tr>\n",
       "      <th>13</th>\n",
       "      <td>14</td>\n",
       "      <td>Hertha Berlin</td>\n",
       "      <td>35</td>\n",
       "      <td>34</td>\n",
       "      <td>8</td>\n",
       "      <td>11</td>\n",
       "      <td>15</td>\n",
       "      <td>LDWDW</td>\n",
       "      <td>-11</td>\n",
       "    </tr>\n",
       "    <tr>\n",
       "      <th>14</th>\n",
       "      <td>15</td>\n",
       "      <td>Arminia Bielefeld</td>\n",
       "      <td>35</td>\n",
       "      <td>34</td>\n",
       "      <td>9</td>\n",
       "      <td>8</td>\n",
       "      <td>17</td>\n",
       "      <td>WDDLW</td>\n",
       "      <td>-26</td>\n",
       "    </tr>\n",
       "    <tr>\n",
       "      <th>15</th>\n",
       "      <td>16</td>\n",
       "      <td>FC Koln</td>\n",
       "      <td>33</td>\n",
       "      <td>34</td>\n",
       "      <td>8</td>\n",
       "      <td>9</td>\n",
       "      <td>17</td>\n",
       "      <td>WDLWW</td>\n",
       "      <td>-26</td>\n",
       "    </tr>\n",
       "    <tr>\n",
       "      <th>16</th>\n",
       "      <td>17</td>\n",
       "      <td>Werder Bremen</td>\n",
       "      <td>31</td>\n",
       "      <td>34</td>\n",
       "      <td>7</td>\n",
       "      <td>10</td>\n",
       "      <td>17</td>\n",
       "      <td>LLDLL</td>\n",
       "      <td>-21</td>\n",
       "    </tr>\n",
       "    <tr>\n",
       "      <th>17</th>\n",
       "      <td>18</td>\n",
       "      <td>FC Schalke 04</td>\n",
       "      <td>16</td>\n",
       "      <td>34</td>\n",
       "      <td>3</td>\n",
       "      <td>7</td>\n",
       "      <td>24</td>\n",
       "      <td>LWLLL</td>\n",
       "      <td>-61</td>\n",
       "    </tr>\n",
       "  </tbody>\n",
       "</table>\n",
       "</div>"
      ],
      "text/plain": [
       "    Position                      Club  Points  Played  Win  Draw  Lose  \\\n",
       "0          1             Bayern Munich      78      34   24     6     4   \n",
       "1          2                RB Leipzig      65      34   19     8     7   \n",
       "2          3         Borussia Dortmund      64      34   20     4    10   \n",
       "3          4             VfL Wolfsburg      61      34   17    10     7   \n",
       "4          5       Eintracht Frankfurt      60      34   16    12     6   \n",
       "5          6          Bayer Leverkusen      52      34   14    10    10   \n",
       "6          7              Union Berlin      50      34   12    14     8   \n",
       "7          8  Borussia Monchengladbach      49      34   13    10    11   \n",
       "8          9             VfB Stuttgart      45      34   12     9    13   \n",
       "9         10               SC Freiburg      45      34   12     9    13   \n",
       "10        11           1899 Hoffenheim      43      34   11    10    13   \n",
       "11        12              FSV Mainz 05      39      34   10     9    15   \n",
       "12        13               FC Augsburg      36      34   10     6    18   \n",
       "13        14             Hertha Berlin      35      34    8    11    15   \n",
       "14        15         Arminia Bielefeld      35      34    9     8    17   \n",
       "15        16                   FC Koln      33      34    8     9    17   \n",
       "16        17             Werder Bremen      31      34    7    10    17   \n",
       "17        18             FC Schalke 04      16      34    3     7    24   \n",
       "\n",
       "   Last 5  GD  \n",
       "0   WDWLW  55  \n",
       "1   LDLWL  28  \n",
       "2   WWWWW  29  \n",
       "3   LDWLW  24  \n",
       "4   WLDLW  16  \n",
       "5   LDDWL  14  \n",
       "6   WDLWL   7  \n",
       "7   WLLWL   8  \n",
       "8   LWWLL   1  \n",
       "9   LDWLD   0  \n",
       "10  WDWDW  -2  \n",
       "11  WLDDW -17  \n",
       "12  LWLLL -18  \n",
       "13  LDWDW -11  \n",
       "14  WDDLW -26  \n",
       "15  WDLWW -26  \n",
       "16  LLDLL -21  \n",
       "17  LWLLL -61  "
      ]
     },
     "execution_count": 13,
     "metadata": {},
     "output_type": "execute_result"
    }
   ],
   "source": [
    "df"
   ]
  },
  {
   "cell_type": "code",
   "execution_count": 20,
   "metadata": {},
   "outputs": [
    {
     "name": "stdout",
     "output_type": "stream",
     "text": [
      "{'get': 'teams', 'parameters': {'id': '33'}, 'errors': [], 'results': 1, 'paging': {'current': 1, 'total': 1}, 'response': [{'team': {'id': 33, 'name': 'Manchester United', 'country': 'England', 'founded': 1878, 'national': False, 'logo': 'https://media.api-sports.io/football/teams/33.png'}, 'venue': {'id': 556, 'name': 'Old Trafford', 'address': 'Sir Matt Busby Way', 'city': 'Manchester', 'capacity': 76212, 'surface': 'grass', 'image': 'https://media.api-sports.io/football/venues/556.png'}}]}\n"
     ]
    }
   ],
   "source": [
    "url = \"https://api-football-v1.p.rapidapi.com/v3/teams\"\r\n",
    "\r\n",
    "querystring = {\"id\":\"33\"}\r\n",
    "\r\n",
    "headers = {\r\n",
    "    'x-rapidapi-key': \"ef16f854ecmshc641f9132935275p177f18jsn10486bde6e57\",\r\n",
    "    'x-rapidapi-host': \"api-football-v1.p.rapidapi.com\"\r\n",
    "    }\r\n",
    "\r\n",
    "response = requests.request(\"GET\", url, headers=headers, params=querystring)\r\n",
    "\r\n",
    "data = json.loads(response.text)\r\n",
    "\r\n",
    "#data['response'][0]['team']['logo']\r\n",
    "\r\n",
    "print(data)\r\n",
    "\r\n"
   ]
  },
  {
   "cell_type": "code",
   "execution_count": 23,
   "metadata": {},
   "outputs": [
    {
     "data": {
      "text/plain": [
       "{'get': 'fixtures/headtohead',\n",
       " 'parameters': {'last': '1', 'h2h': '33-34'},\n",
       " 'errors': [],\n",
       " 'results': 1,\n",
       " 'paging': {'current': 1, 'total': 1},\n",
       " 'response': [{'fixture': {'id': 592742,\n",
       "    'referee': 'P. Tierney',\n",
       "    'timezone': 'UTC',\n",
       "    'date': '2021-02-21T19:00:00+00:00',\n",
       "    'timestamp': 1613934000,\n",
       "    'periods': {'first': 1613934000, 'second': 1613937600},\n",
       "    'venue': {'id': 556, 'name': 'Old Trafford', 'city': 'Manchester'},\n",
       "    'status': {'long': 'Match Finished', 'short': 'FT', 'elapsed': 90}},\n",
       "   'league': {'id': 39,\n",
       "    'name': 'Premier League',\n",
       "    'country': 'England',\n",
       "    'logo': 'https://media.api-sports.io/football/leagues/39.png',\n",
       "    'flag': 'https://media.api-sports.io/flags/gb.svg',\n",
       "    'season': 2020,\n",
       "    'round': 'Regular Season - 25'},\n",
       "   'teams': {'home': {'id': 33,\n",
       "     'name': 'Manchester United',\n",
       "     'logo': 'https://media.api-sports.io/football/teams/33.png',\n",
       "     'winner': True},\n",
       "    'away': {'id': 34,\n",
       "     'name': 'Newcastle',\n",
       "     'logo': 'https://media.api-sports.io/football/teams/34.png',\n",
       "     'winner': False}},\n",
       "   'goals': {'home': 3, 'away': 1},\n",
       "   'score': {'halftime': {'home': 1, 'away': 1},\n",
       "    'fulltime': {'home': 3, 'away': 1},\n",
       "    'extratime': {'home': None, 'away': None},\n",
       "    'penalty': {'home': None, 'away': None}}}]}"
      ]
     },
     "execution_count": 23,
     "metadata": {},
     "output_type": "execute_result"
    }
   ],
   "source": [
    "url = \"https://api-football-v1.p.rapidapi.com/v3/fixtures/headtohead\"\r\n",
    "    \r\n",
    "h2h_string = str(33)+'-'+str(34)\r\n",
    "\r\n",
    "if next==True:\r\n",
    "    querystring = {\"next\":\"1\", 'h2h':h2h_string}\r\n",
    "else: \r\n",
    "    querystring = {\"last\":\"1\", 'h2h':h2h_string}\r\n",
    "\r\n",
    "response = requests.request(\"GET\", url, headers=headers, params=querystring)\r\n",
    "data = json.loads(response.text)\r\n",
    "\r\n",
    "data"
   ]
  },
  {
   "cell_type": "code",
   "execution_count": 27,
   "metadata": {},
   "outputs": [
    {
     "data": {
      "text/plain": [
       "'Manchester United'"
      ]
     },
     "execution_count": 27,
     "metadata": {},
     "output_type": "execute_result"
    }
   ],
   "source": [
    "data['response'][0]['teams']['home'][\"name\"]"
   ]
  },
  {
   "cell_type": "code",
   "execution_count": 28,
   "metadata": {},
   "outputs": [
    {
     "data": {
      "text/plain": [
       "'Newcastle'"
      ]
     },
     "execution_count": 28,
     "metadata": {},
     "output_type": "execute_result"
    }
   ],
   "source": [
    "data['response'][0]['teams']['away'][\"name\"]"
   ]
  },
  {
   "cell_type": "code",
   "execution_count": 30,
   "metadata": {},
   "outputs": [
    {
     "data": {
      "text/plain": [
       "{'id': 592742,\n",
       " 'referee': 'P. Tierney',\n",
       " 'timezone': 'UTC',\n",
       " 'date': '2021-02-21T19:00:00+00:00',\n",
       " 'timestamp': 1613934000,\n",
       " 'periods': {'first': 1613934000, 'second': 1613937600},\n",
       " 'venue': {'id': 556, 'name': 'Old Trafford', 'city': 'Manchester'},\n",
       " 'status': {'long': 'Match Finished', 'short': 'FT', 'elapsed': 90}}"
      ]
     },
     "execution_count": 30,
     "metadata": {},
     "output_type": "execute_result"
    }
   ],
   "source": [
    "data['response'][0]['fixture']"
   ]
  },
  {
   "cell_type": "code",
   "execution_count": 34,
   "metadata": {},
   "outputs": [],
   "source": [
    "def get_home_team():\r\n",
    "    url = \"https://api-football-v1.p.rapidapi.com/v3/fixtures/headtohead\"\r\n",
    "    \r\n",
    "    h2h_string = str(33)+'-'+str(34)\r\n",
    "\r\n",
    "    if next==True:\r\n",
    "        querystring = {\"next\":\"1\", 'h2h':h2h_string}\r\n",
    "    else: \r\n",
    "        querystring = {\"last\":\"1\", 'h2h':h2h_string}\r\n",
    "\r\n",
    "    response = requests.request(\"GET\", url, headers=headers, params=querystring)\r\n",
    "    data = json.loads(response.text)\r\n",
    "    home_team = data['response'][0]['teams']['home'][\"name\"]\r\n",
    "    away_team = data['response'][0]['teams']['away'][\"name\"]\r\n",
    "\r\n",
    "    return home_team, away_team"
   ]
  },
  {
   "cell_type": "code",
   "execution_count": 35,
   "metadata": {},
   "outputs": [],
   "source": [
    "home_team, away_team = get_home_team()"
   ]
  },
  {
   "cell_type": "code",
   "execution_count": 36,
   "metadata": {},
   "outputs": [
    {
     "data": {
      "text/plain": [
       "'Manchester United'"
      ]
     },
     "execution_count": 36,
     "metadata": {},
     "output_type": "execute_result"
    }
   ],
   "source": [
    "home_team"
   ]
  },
  {
   "cell_type": "code",
   "execution_count": null,
   "metadata": {},
   "outputs": [],
   "source": []
  }
 ],
 "metadata": {
  "interpreter": {
   "hash": "9e74f1cff43873d2ee29132d92737d448aae8841f1d2792bf2bb714966289e8b"
  },
  "kernelspec": {
   "display_name": "Python 3.8.10 64-bit (windows store)",
   "name": "python3"
  },
  "language_info": {
   "codemirror_mode": {
    "name": "ipython",
    "version": 3
   },
   "file_extension": ".py",
   "mimetype": "text/x-python",
   "name": "python",
   "nbconvert_exporter": "python",
   "pygments_lexer": "ipython3",
   "version": "3.8.10"
  },
  "orig_nbformat": 4
 },
 "nbformat": 4,
 "nbformat_minor": 2
}